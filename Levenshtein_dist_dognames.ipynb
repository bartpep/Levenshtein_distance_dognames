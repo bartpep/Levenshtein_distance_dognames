{
 "cells": [
  {
   "cell_type": "code",
   "execution_count": 1,
   "id": "fe72ae53",
   "metadata": {
    "scrolled": true
   },
   "outputs": [],
   "source": [
    "#!pip install Distance"
   ]
  },
  {
   "cell_type": "code",
   "execution_count": 2,
   "id": "ef4b8813",
   "metadata": {
    "scrolled": true
   },
   "outputs": [],
   "source": [
    "#Import libraries\n",
    "# All packages are expected to be already installed, \n",
    "# the possible exception being distance\n",
    "import pandas as pd\n",
    "import numpy as np\n",
    "import os\n",
    "import distance\n"
   ]
  },
  {
   "cell_type": "code",
   "execution_count": 3,
   "id": "99f5e92f",
   "metadata": {},
   "outputs": [],
   "source": [
    "#Variables \n",
    "#Set  path to directory the dognames files is saved\n",
    "path = \"C:/Users/BPEPPI05/Documents/Python Scripts\"\n",
    "filename = 'dognames.csv'\n",
    "distance_name = 'Luca'"
   ]
  },
  {
   "cell_type": "code",
   "execution_count": 8,
   "id": "423f778c",
   "metadata": {},
   "outputs": [],
   "source": [
    "# Import the dogname file\n",
    "os.chdir(path)\n",
    "\n",
    "dognames_original = pd.read_csv(filename)\n"
   ]
  },
  {
   "cell_type": "code",
   "execution_count": 5,
   "id": "5dec26e8",
   "metadata": {},
   "outputs": [],
   "source": [
    "# Inspect the names to check for cleaning\n",
    "dognames_original.head(100)\n",
    "\n",
    "# Check if any string contains non letter names\n",
    "dognames_tmp = dognames_original.iloc[:,0].str.strip()\n",
    "\n"
   ]
  },
  {
   "cell_type": "code",
   "execution_count": 6,
   "id": "2c3e5a8c",
   "metadata": {},
   "outputs": [
    {
     "name": "stderr",
     "output_type": "stream",
     "text": [
      "<ipython-input-6-65724786ca95>:16: FutureWarning: The default value of regex will change from True to False in a future version.\n",
      "  dognames = dognames.str.replace('[^a-zA-Z]', '')\n"
     ]
    }
   ],
   "source": [
    "# Clean the data only the dognames will be necessary\n",
    "dognames = dognames_original.iloc[:,0].str.strip()\n",
    "\n",
    "# Drop all duplicated names\n",
    "dognames = pd.Series(dognames.unique())\n",
    "\n",
    "# Separate all the nicknames from the original names\n",
    "nicknames = dognames.str.extract(\"(\\\"\\w*\\\")(.*)\")\n",
    "nicknames = nicknames.dropna()\n",
    "#print(nicknames.head(100))\n",
    "dognames = pd.concat((pd.Series(nicknames.iloc[:,0].unique()),\n",
    "                      pd.Series(nicknames.iloc[:,1].unique()),\n",
    "                      dognames))\n",
    "\n",
    "#remove all none letters\n",
    "dognames = dognames.str.replace('[^a-zA-Z]', '')\n",
    "\n",
    "# Remove all the dognames that do not have length 3,4 or 5. \n",
    "# Only 3,4 and 5 lenght strings can have a levenstein distance of one\n",
    "dognames_len = dognames.str.len()\n",
    "dognames = dognames[(dognames_len >= 3) & (dognames_len <= 5)]\n"
   ]
  },
  {
   "cell_type": "code",
   "execution_count": 7,
   "id": "17bd88eb",
   "metadata": {},
   "outputs": [
    {
     "name": "stdout",
     "output_type": "stream",
     "text": [
      "['Cuca', 'Lua', 'Luba', 'Lucas', 'Luce', 'Lucia', 'Lucy', 'Lula', 'Luma', 'Luna', 'Lupa', 'Yuca']\n"
     ]
    }
   ],
   "source": [
    "distance_one = []\n",
    "for name in dognames:\n",
    "    dist = distance.levenshtein(name,distance_name)\n",
    "    if dist == 1:\n",
    "        distance_one.append(name)\n",
    "\n",
    "print(distance_one)"
   ]
  }
 ],
 "metadata": {
  "kernelspec": {
   "display_name": "Python 3",
   "language": "python",
   "name": "python3"
  },
  "language_info": {
   "codemirror_mode": {
    "name": "ipython",
    "version": 3
   },
   "file_extension": ".py",
   "mimetype": "text/x-python",
   "name": "python",
   "nbconvert_exporter": "python",
   "pygments_lexer": "ipython3",
   "version": "3.8.8"
  }
 },
 "nbformat": 4,
 "nbformat_minor": 5
}
